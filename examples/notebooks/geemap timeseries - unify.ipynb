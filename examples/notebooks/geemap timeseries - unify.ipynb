{
 "cells": [
  {
   "cell_type": "code",
   "execution_count": null,
   "metadata": {},
   "outputs": [],
   "source": [
    "from geemap import timelapse"
   ]
  },
  {
   "cell_type": "code",
   "execution_count": null,
   "metadata": {},
   "outputs": [],
   "source": [
    "timeseries_defs = [x for x in dir(timelapse) if '_timeseries' in x and '_legacy' not in x and 'create_' not in x]\n",
    "timeseries_defs"
   ]
  },
  {
   "cell_type": "code",
   "execution_count": null,
   "metadata": {},
   "outputs": [],
   "source": [
    "from collections import defaultdict, Counter\n",
    "import inspect\n",
    "\n",
    "def get_defs_variables(module='timelapse', alike=['_timelapse'], notalike=['_legacy']):\n",
    "    defs = [x for x in dir(eval(module)) \n",
    "                if all(y in x for y in alike) \n",
    "                and not any(y in x for y in notalike)]\n",
    "    varnames = defaultdict(list)\n",
    "    counter = Counter()\n",
    "        \n",
    "    for x in defs:\n",
    "        for k in set(eval(f'inspect.getfullargspec({module}.{x})')[0]):\n",
    "            varnames[k].append(x.split('_', 1)[0])\n",
    "            counter[k] += 1\n",
    "    return defs, counter, varnames"
   ]
  },
  {
   "cell_type": "code",
   "execution_count": null,
   "metadata": {},
   "outputs": [],
   "source": [
    "par = {'module':'timelapse', \n",
    "       'alike':['naip_timeseries'], \n",
    "       'notalike':['_legacy', 'create_']}\n",
    "\n",
    "defs, _, varnames = get_defs_variables(**par)\n",
    "defs, len(defs), varnames"
   ]
  },
  {
   "cell_type": "code",
   "execution_count": null,
   "metadata": {},
   "outputs": [],
   "source": [
    "par = {'module':'timelapse', \n",
    "       'alike':['_timeseries'], \n",
    "       'notalike':['_legacy', 'create_']}\n",
    "\n",
    "defs, all_counter, varnames = get_defs_variables(**par)\n",
    "defs, len(defs)"
   ]
  },
  {
   "cell_type": "code",
   "execution_count": null,
   "metadata": {},
   "outputs": [],
   "source": [
    "par = {'module':'timelapse', \n",
    "       'alike':['create_timeseries'], \n",
    "       'notalike':[]}\n",
    "\n",
    "_, create_counter, _ = get_defs_variables(**par)\n",
    "create_counter"
   ]
  },
  {
   "cell_type": "code",
   "execution_count": null,
   "metadata": {},
   "outputs": [],
   "source": [
    "{k:v for k,v in all_counter.items() if v == max(all_counter.values())}"
   ]
  },
  {
   "cell_type": "code",
   "execution_count": null,
   "metadata": {},
   "outputs": [],
   "source": [
    "uncommon = {k:v for k,v in all_counter.items() if v != max(all_counter.values())}\n",
    "uncommon"
   ]
  },
  {
   "cell_type": "code",
   "execution_count": null,
   "metadata": {
    "scrolled": false
   },
   "outputs": [],
   "source": [
    "outliers = {k:v for k,v in varnames.items() if len(v) != max(all_counter.values())}\n",
    "outliers"
   ]
  },
  {
   "cell_type": "code",
   "execution_count": null,
   "metadata": {},
   "outputs": [],
   "source": [
    "goes_vars = {\n",
    "    \"name\": \"{} {} {}\",\n",
    "    \"def\": \"goes_timeseries\",\n",
    "    \"pars\": {\n",
    "       \"data\":{\"GOES-17\":\"GOES-17\",\"GOES-16\":\"GOES-16\"}, \n",
    "       \"scan\":{\"Full disk\":\"full_disk\", \"Conus\":\"conus\", \"Mesoscale\":\"mesoscale\"}, \n",
    "       \"show_night\":{\"\":[False, \"a_mode\"], \"Night A\":[True,\"a_mode\"], \"Night B\":[True, \"b_mode\"]},\n",
    "       }\n",
    "    }\n",
    "\n",
    "goes_fire_vars = {\n",
    "    \"name\": \"{} Fire {}\",\n",
    "    \"def\": \"goes_fire_timeseries\",\n",
    "    \"pars\": {\n",
    "       \"data\":{\"GOES-17\":\"GOES-17\",\"GOES-16\":\"GOES-16\"}, \n",
    "       \"scan\":{\"Full disk\":\"full_disk\", \"Conus\":\"conus\"}, \n",
    "       }\n",
    "    }\n",
    "\n",
    "naip_vars = {\n",
    "    \"name\": \"NAIP Annual {}\",\n",
    "    \"def\": \"naip_ts\",\n",
    "    \"pars\": {\n",
    "       \"RGBN\": {\"\":False, \"4 Band\":True},\n",
    "       }\n",
    "    }\n",
    "\n",
    "landsat_vars = {\n",
    "    \"name\": \"Landsat {} {}\",\n",
    "    \"def\": \"landsat_ts\",\n",
    "    \"pars\": {\n",
    "       \"frequency\":{\"Yearly\":\"year\",\"Quarterly\":\"quarter\",\"Monthly\":\"month\"}, \n",
    "       \"apply_fmask\":{\"Masked\":True, \"Raw\":False,}, \n",
    "       }\n",
    "    }\n",
    "\n",
    "sentinel2_vars = {\n",
    "    \"name\": \"Sentinel2 {}{} {}\",\n",
    "    \"def\": \"sentinel2_timeseries\",\n",
    "    \"pars\": {\n",
    "       \"frequency\": {\"Yearly\":\"year\",\"Quarterly\":\"quarter\",\"Monthly\":\"month\"}, \n",
    "       \"drop_empty\": {\"\":False},\n",
    "       \"mask_cloud\": {\"Cloudless\":True, \"Clouded\":False},\n",
    "       }\n",
    "    }\n",
    "\n",
    "dynamic_vars = {\n",
    "    \"name\": \"Dynamic World {}{} {}\",\n",
    "    \"def\": \"dynamic_world_timeseries\",\n",
    "    \"pars\": {\n",
    "       \"frequency\": {\"Yearly\":\"year\",\"Quarterly\":\"quarter\",\"Monthly\":\"month\"}, \n",
    "       \"drop_empty\": {\"\":False}, \n",
    "       \"return_type\": {\"Topological\":\"hillshade\", \"\":\"visualize\", \"Probabilistic\":\"probability\"}\n",
    "       }\n",
    "    }\n",
    "\n",
    "sentinel1_vars = {\n",
    "    \"name\": \"Sentinel1 {} {}\",\n",
    "    \"def\": \"sentinel1_timeseries\",\n",
    "    \"pars\": {\n",
    "       \"frequency\": {\"Yearly\":\"year\",\"Quarterly\":\"quarter\",\"Monthly\":\"month\"}, \n",
    "       \"band\": {\"Land\":\"VV\", \"Sea and Ice\":\"HV\"},\n",
    "       }\n",
    "    }\n",
    "\n",
    "def parse_vars(dict_):\n",
    "    from itertools import product\n",
    "    for ki,di in dict_[\"pars\"].items():\n",
    "        dict_[\"pars\"][ki] = list((ki,k,v) for k,v in di.items())\n",
    "    products = product(*dict_[\"pars\"].values())  \n",
    "    full_ = []\n",
    "    for sample in products:\n",
    "        labels = [x[1] for x in sample]\n",
    "        name = dict_[\"name\"].format(*labels)\n",
    "        params = {x[0]:x[2] for x in sample}\n",
    "        full_.append((name, dict_[\"def\"], params))\n",
    "    return full_\n",
    "\n",
    "vars_ = [goes_vars, goes_fire_vars, landsat_vars, sentinel1_vars, sentinel2_vars, naip_vars, dynamic_vars]\n",
    "\n",
    "all_vars = [defx for var in vars_ for defx in parse_vars(var)]\n",
    "all_vars"
   ]
  },
  {
   "cell_type": "code",
   "execution_count": null,
   "metadata": {
    "scrolled": false
   },
   "outputs": [],
   "source": [
    "from geemap import Map\n",
    "Map = Map()\n",
    "Map"
   ]
  },
  {
   "cell_type": "code",
   "execution_count": null,
   "metadata": {},
   "outputs": [],
   "source": []
  }
 ],
 "metadata": {
  "kernelspec": {
   "display_name": "Python 3",
   "language": "python",
   "name": "python3"
  },
  "language_info": {
   "codemirror_mode": {
    "name": "ipython",
    "version": 3
   },
   "file_extension": ".py",
   "mimetype": "text/x-python",
   "name": "python",
   "nbconvert_exporter": "python",
   "pygments_lexer": "ipython3",
   "version": "3.7.6"
  }
 },
 "nbformat": 4,
 "nbformat_minor": 4
}
